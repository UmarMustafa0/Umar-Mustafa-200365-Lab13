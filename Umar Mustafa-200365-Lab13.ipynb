{
 "cells": [
  {
   "cell_type": "markdown",
   "id": "25c75338",
   "metadata": {},
   "source": [
    "# <center>Computer Application in Engineering Design Lab<center>\n",
    "## <center>Lab 13, BCE Fall 2021<center>\n",
    "### Instructor: Muhammad Farooq Khan\n",
    "### Date: 25-Dec-2021\n",
    "### Pandas "
   ]
  },
  {
   "cell_type": "code",
   "execution_count": 55,
   "id": "f548e018",
   "metadata": {},
   "outputs": [
    {
     "name": "stdout",
     "output_type": "stream",
     "text": [
      "\n",
      "------------Program ------------\n",
      "   Unnamed: 0    lcavol   lweight  age      lbph  svi       lcp  gleason  \\\n",
      "0           1 -0.579818  2.769459   50 -1.386294    0 -1.386294        6   \n",
      "1           2 -0.994252  3.319626   58 -1.386294    0 -1.386294        6   \n",
      "2           3 -0.510826  2.691243   74 -1.386294    0 -1.386294        7   \n",
      "3           4 -1.203973  3.282789   58 -1.386294    0 -1.386294        6   \n",
      "4           5  0.751416  3.432373   62 -1.386294    0 -1.386294        6   \n",
      "5          93  2.830268  3.876396   68 -1.386294    1  1.321756        7   \n",
      "6          94  3.821004  3.896909   44 -1.386294    1  2.169054        7   \n",
      "7          95  2.907447  3.396185   52 -1.386294    1  2.463853        7   \n",
      "8          96  2.882564  3.773910   68  1.558145    1  1.558145        7   \n",
      "9          97  3.471966  3.974998   68  0.438255    1  2.904165        7   \n",
      "\n",
      "   pgg45      lpsa  \n",
      "0      0 -0.430783  \n",
      "1      0 -0.162519  \n",
      "2     20 -0.162519  \n",
      "3      0 -0.162519  \n",
      "4      0  0.371564  \n",
      "5     60  4.385147  \n",
      "6     40  4.684443  \n",
      "7     10  5.143124  \n",
      "8     80  5.477509  \n",
      "9     20  5.582932  \n"
     ]
    }
   ],
   "source": [
    "import numpy as np\n",
    "np.set_printoptions(suppress=True)\n",
    "# Creating a csv File \n",
    "import pandas as do \n",
    "import csv\n",
    "feilds = [\"Unnamed: 0\", \"lcavol\", \"lweight\", \"age\", \"lbph\", \"svi\", \"lcp\", \"gleason\", \"pgg45\", \"lpsa\"]\n",
    "rows =[\n",
    "       [1, -0.579818, 2.769459, 50, -1.386294, 0, -1.386294, 6, 0,  -0.430783],\n",
    "       [2, -0.994252, 3.319626, 58, -1.386294, 0, -1.386294, 6, 0,  -0.162519],\n",
    "       [3, -0.510826, 2.691243, 74, -1.386294, 0, -1.386294, 7, 20, -0.162519],\n",
    "       [4, -1.203973, 3.282789, 58, -1.386294, 0, -1.386294, 6, 0,  -0.162519],\n",
    "       [5,  0.751416, 3.432373, 62, -1.386294, 0, -1.386294, 6, 0,   0.371564],\n",
    "       [93, 2.830268, 3.876396, 68, -1.386294, 1,  1.321756, 7, 60,  4.385147],\n",
    "       [94, 3.821004, 3.896909, 44, -1.386294, 1,  2.169054, 7, 40,  4.684443],\n",
    "       [95, 2.907447, 3.396185, 52, -1.386294, 1,  2.463853, 7, 10,  5.143124],\n",
    "       [96, 2.882564, 3.773910, 68,  1.558145, 1 , 1.558145, 7, 80,  5.477509],\n",
    "       [97, 3.471966, 3.974998, 68,  0.438255, 1,  2.904165, 7, 20,  5.582932]]\n",
    "filename = \"prostate.csv\"\n",
    "# writing above rown and column in csv file\n",
    "with open(filename, \"w\", newline = \"\") as f:\n",
    "        x = csv.writer(f, delimiter=\",\")\n",
    "        x.writerow(feilds)\n",
    "        x.writerows(rows)\n",
    "# Loadinf Data from CSV file and reading\n",
    "print(\"\\n------------Program ------------\")          \n",
    "fil = do.read_csv(filename)\n",
    "print(fil)"
   ]
  },
  {
   "cell_type": "code",
   "execution_count": 57,
   "id": "de452e86",
   "metadata": {},
   "outputs": [
    {
     "name": "stdout",
     "output_type": "stream",
     "text": [
      "   Unnamed: 0    lcavol   lweight  age      lbph  svi       lcp  gleason  \\\n",
      "0           1 -0.579818  2.769459   50 -1.386294    0 -1.386294        6   \n",
      "1           2 -0.994252  3.319626   58 -1.386294    0 -1.386294        6   \n",
      "2           3 -0.510826  2.691243   74 -1.386294    0 -1.386294        7   \n",
      "\n",
      "   pgg45      lpsa  \n",
      "0      0 -0.430783  \n",
      "1      0 -0.162519  \n",
      "2     20 -0.162519  \n"
     ]
    }
   ],
   "source": [
    "# The head() function is used to get the first n rows. \n",
    "# This function returns the first n rows for the object based on position.\n",
    "print(fil.head(3))"
   ]
  },
  {
   "cell_type": "code",
   "execution_count": 58,
   "id": "48b437f8",
   "metadata": {},
   "outputs": [
    {
     "name": "stdout",
     "output_type": "stream",
     "text": [
      "   Unnamed: 0    lcavol   lweight  age      lbph  svi       lcp  gleason  \\\n",
      "7          95  2.907447  3.396185   52 -1.386294    1  2.463853        7   \n",
      "8          96  2.882564  3.773910   68  1.558145    1  1.558145        7   \n",
      "9          97  3.471966  3.974998   68  0.438255    1  2.904165        7   \n",
      "\n",
      "   pgg45      lpsa  \n",
      "7     10  5.143124  \n",
      "8     80  5.477509  \n",
      "9     20  5.582932  \n"
     ]
    }
   ],
   "source": [
    "# The tail() function is used to get the last n rows. This function returns last n rows from the object based on position.\n",
    "print(fil.tail(3))"
   ]
  },
  {
   "cell_type": "code",
   "execution_count": 60,
   "id": "825fd62e",
   "metadata": {},
   "outputs": [
    {
     "data": {
      "text/plain": [
       "RangeIndex(start=0, stop=10, step=1)"
      ]
     },
     "execution_count": 60,
     "metadata": {},
     "output_type": "execute_result"
    }
   ],
   "source": [
    "# index() is an inbuilt function in Python \n",
    "# which searches for a given element from the start of the list and returns the lowest index where the element appears.\n",
    "fil.index"
   ]
  },
  {
   "cell_type": "code",
   "execution_count": 28,
   "id": "26012a10",
   "metadata": {},
   "outputs": [
    {
     "name": "stdout",
     "output_type": "stream",
     "text": [
      "[[ 1.       -0.579818  2.769459 50.       -1.386294  0.       -1.386294\n",
      "   6.        0.       -0.430783]\n",
      " [ 2.       -0.994252  3.319626 58.       -1.386294  0.       -1.386294\n",
      "   6.        0.       -0.162519]\n",
      " [ 3.       -0.510826  2.691243 74.       -1.386294  0.       -1.386294\n",
      "   7.       20.       -0.162519]\n",
      " [ 4.       -1.203973  3.282789 58.       -1.386294  0.       -1.386294\n",
      "   6.        0.       -0.162519]\n",
      " [ 5.        0.751416  3.432373 62.       -1.386294  0.       -1.386294\n",
      "   6.        0.        0.371564]\n",
      " [93.        2.830268  3.876396 68.       -1.386294  1.        1.321756\n",
      "   7.       60.        4.385147]\n",
      " [94.        3.821004  3.896909 44.       -1.386294  1.        2.169054\n",
      "   7.       40.        4.684443]\n",
      " [95.        2.907447  3.396185 52.       -1.386294  1.        2.463853\n",
      "   7.       10.        5.143124]\n",
      " [96.        2.882564  3.77391  68.        1.558145  1.        1.558145\n",
      "   7.       80.        5.477509]\n",
      " [97.        3.471966  3.974998 68.        0.438255  1.        2.904165\n",
      "   7.       20.        5.582932]]\n"
     ]
    }
   ],
   "source": [
    "# For converting pandas to numpy we use .to_numpy()method\n",
    "# to_numpy() function is used to return a NumPy ndarray representing the values in given Series or Index. \n",
    "t = fil.to_numpy()  # convert pandas to numpy    \n",
    "print(t)"
   ]
  },
  {
   "cell_type": "code",
   "execution_count": 27,
   "id": "ecd06255",
   "metadata": {},
   "outputs": [
    {
     "name": "stdout",
     "output_type": "stream",
     "text": [
      "[[ 1.       -0.579818  2.769459 50.       -1.386294  0.       -1.386294\n",
      "   6.        0.       -0.430783]\n",
      " [ 2.       -0.994252  3.319626 58.       -1.386294  0.       -1.386294\n",
      "   6.        0.       -0.162519]\n",
      " [ 3.       -0.510826  2.691243 74.       -1.386294  0.       -1.386294\n",
      "   7.       20.       -0.162519]\n",
      " [ 4.       -1.203973  3.282789 58.       -1.386294  0.       -1.386294\n",
      "   6.        0.       -0.162519]\n",
      " [ 5.        0.751416  3.432373 62.       -1.386294  0.       -1.386294\n",
      "   6.        0.        0.371564]\n",
      " [93.        2.830268  3.876396 68.       -1.386294  1.        1.321756\n",
      "   7.       60.        4.385147]\n",
      " [94.        3.821004  3.896909 44.       -1.386294  1.        2.169054\n",
      "   7.       40.        4.684443]\n",
      " [95.        2.907447  3.396185 52.       -1.386294  1.        2.463853\n",
      "   7.       10.        5.143124]\n",
      " [96.        2.882564  3.77391  68.        1.558145  1.        1.558145\n",
      "   7.       80.        5.477509]\n",
      " [97.        3.471966  3.974998 68.        0.438255  1.        2.904165\n",
      "   7.       20.        5.582932]]\n"
     ]
    },
    {
     "data": {
      "text/html": [
       "<div>\n",
       "<style scoped>\n",
       "    .dataframe tbody tr th:only-of-type {\n",
       "        vertical-align: middle;\n",
       "    }\n",
       "\n",
       "    .dataframe tbody tr th {\n",
       "        vertical-align: top;\n",
       "    }\n",
       "\n",
       "    .dataframe thead th {\n",
       "        text-align: right;\n",
       "    }\n",
       "</style>\n",
       "<table border=\"1\" class=\"dataframe\">\n",
       "  <thead>\n",
       "    <tr style=\"text-align: right;\">\n",
       "      <th></th>\n",
       "      <th>0</th>\n",
       "      <th>1</th>\n",
       "      <th>2</th>\n",
       "      <th>3</th>\n",
       "      <th>4</th>\n",
       "      <th>5</th>\n",
       "      <th>6</th>\n",
       "      <th>7</th>\n",
       "      <th>8</th>\n",
       "      <th>9</th>\n",
       "    </tr>\n",
       "  </thead>\n",
       "  <tbody>\n",
       "    <tr>\n",
       "      <th>Unnamed: 0</th>\n",
       "      <td>1.000000</td>\n",
       "      <td>2.000000</td>\n",
       "      <td>3.000000</td>\n",
       "      <td>4.000000</td>\n",
       "      <td>5.000000</td>\n",
       "      <td>93.000000</td>\n",
       "      <td>94.000000</td>\n",
       "      <td>95.000000</td>\n",
       "      <td>96.000000</td>\n",
       "      <td>97.000000</td>\n",
       "    </tr>\n",
       "    <tr>\n",
       "      <th>lcavol</th>\n",
       "      <td>-0.579818</td>\n",
       "      <td>-0.994252</td>\n",
       "      <td>-0.510826</td>\n",
       "      <td>-1.203973</td>\n",
       "      <td>0.751416</td>\n",
       "      <td>2.830268</td>\n",
       "      <td>3.821004</td>\n",
       "      <td>2.907447</td>\n",
       "      <td>2.882564</td>\n",
       "      <td>3.471966</td>\n",
       "    </tr>\n",
       "    <tr>\n",
       "      <th>lweight</th>\n",
       "      <td>2.769459</td>\n",
       "      <td>3.319626</td>\n",
       "      <td>2.691243</td>\n",
       "      <td>3.282789</td>\n",
       "      <td>3.432373</td>\n",
       "      <td>3.876396</td>\n",
       "      <td>3.896909</td>\n",
       "      <td>3.396185</td>\n",
       "      <td>3.773910</td>\n",
       "      <td>3.974998</td>\n",
       "    </tr>\n",
       "    <tr>\n",
       "      <th>age</th>\n",
       "      <td>50.000000</td>\n",
       "      <td>58.000000</td>\n",
       "      <td>74.000000</td>\n",
       "      <td>58.000000</td>\n",
       "      <td>62.000000</td>\n",
       "      <td>68.000000</td>\n",
       "      <td>44.000000</td>\n",
       "      <td>52.000000</td>\n",
       "      <td>68.000000</td>\n",
       "      <td>68.000000</td>\n",
       "    </tr>\n",
       "    <tr>\n",
       "      <th>lbph</th>\n",
       "      <td>-1.386294</td>\n",
       "      <td>-1.386294</td>\n",
       "      <td>-1.386294</td>\n",
       "      <td>-1.386294</td>\n",
       "      <td>-1.386294</td>\n",
       "      <td>-1.386294</td>\n",
       "      <td>-1.386294</td>\n",
       "      <td>-1.386294</td>\n",
       "      <td>1.558145</td>\n",
       "      <td>0.438255</td>\n",
       "    </tr>\n",
       "    <tr>\n",
       "      <th>svi</th>\n",
       "      <td>0.000000</td>\n",
       "      <td>0.000000</td>\n",
       "      <td>0.000000</td>\n",
       "      <td>0.000000</td>\n",
       "      <td>0.000000</td>\n",
       "      <td>1.000000</td>\n",
       "      <td>1.000000</td>\n",
       "      <td>1.000000</td>\n",
       "      <td>1.000000</td>\n",
       "      <td>1.000000</td>\n",
       "    </tr>\n",
       "    <tr>\n",
       "      <th>lcp</th>\n",
       "      <td>-1.386294</td>\n",
       "      <td>-1.386294</td>\n",
       "      <td>-1.386294</td>\n",
       "      <td>-1.386294</td>\n",
       "      <td>-1.386294</td>\n",
       "      <td>1.321756</td>\n",
       "      <td>2.169054</td>\n",
       "      <td>2.463853</td>\n",
       "      <td>1.558145</td>\n",
       "      <td>2.904165</td>\n",
       "    </tr>\n",
       "    <tr>\n",
       "      <th>gleason</th>\n",
       "      <td>6.000000</td>\n",
       "      <td>6.000000</td>\n",
       "      <td>7.000000</td>\n",
       "      <td>6.000000</td>\n",
       "      <td>6.000000</td>\n",
       "      <td>7.000000</td>\n",
       "      <td>7.000000</td>\n",
       "      <td>7.000000</td>\n",
       "      <td>7.000000</td>\n",
       "      <td>7.000000</td>\n",
       "    </tr>\n",
       "    <tr>\n",
       "      <th>pgg45</th>\n",
       "      <td>0.000000</td>\n",
       "      <td>0.000000</td>\n",
       "      <td>20.000000</td>\n",
       "      <td>0.000000</td>\n",
       "      <td>0.000000</td>\n",
       "      <td>60.000000</td>\n",
       "      <td>40.000000</td>\n",
       "      <td>10.000000</td>\n",
       "      <td>80.000000</td>\n",
       "      <td>20.000000</td>\n",
       "    </tr>\n",
       "    <tr>\n",
       "      <th>lpsa</th>\n",
       "      <td>-0.430783</td>\n",
       "      <td>-0.162519</td>\n",
       "      <td>-0.162519</td>\n",
       "      <td>-0.162519</td>\n",
       "      <td>0.371564</td>\n",
       "      <td>4.385147</td>\n",
       "      <td>4.684443</td>\n",
       "      <td>5.143124</td>\n",
       "      <td>5.477509</td>\n",
       "      <td>5.582932</td>\n",
       "    </tr>\n",
       "  </tbody>\n",
       "</table>\n",
       "</div>"
      ],
      "text/plain": [
       "                    0          1          2          3          4          5  \\\n",
       "Unnamed: 0   1.000000   2.000000   3.000000   4.000000   5.000000  93.000000   \n",
       "lcavol      -0.579818  -0.994252  -0.510826  -1.203973   0.751416   2.830268   \n",
       "lweight      2.769459   3.319626   2.691243   3.282789   3.432373   3.876396   \n",
       "age         50.000000  58.000000  74.000000  58.000000  62.000000  68.000000   \n",
       "lbph        -1.386294  -1.386294  -1.386294  -1.386294  -1.386294  -1.386294   \n",
       "svi          0.000000   0.000000   0.000000   0.000000   0.000000   1.000000   \n",
       "lcp         -1.386294  -1.386294  -1.386294  -1.386294  -1.386294   1.321756   \n",
       "gleason      6.000000   6.000000   7.000000   6.000000   6.000000   7.000000   \n",
       "pgg45        0.000000   0.000000  20.000000   0.000000   0.000000  60.000000   \n",
       "lpsa        -0.430783  -0.162519  -0.162519  -0.162519   0.371564   4.385147   \n",
       "\n",
       "                    6          7          8          9  \n",
       "Unnamed: 0  94.000000  95.000000  96.000000  97.000000  \n",
       "lcavol       3.821004   2.907447   2.882564   3.471966  \n",
       "lweight      3.896909   3.396185   3.773910   3.974998  \n",
       "age         44.000000  52.000000  68.000000  68.000000  \n",
       "lbph        -1.386294  -1.386294   1.558145   0.438255  \n",
       "svi          1.000000   1.000000   1.000000   1.000000  \n",
       "lcp          2.169054   2.463853   1.558145   2.904165  \n",
       "gleason      7.000000   7.000000   7.000000   7.000000  \n",
       "pgg45       40.000000  10.000000  80.000000  20.000000  \n",
       "lpsa         4.684443   5.143124   5.477509   5.582932  "
      ]
     },
     "execution_count": 27,
     "metadata": {},
     "output_type": "execute_result"
    }
   ],
   "source": [
    "con = fil.to_numpy()  # convert pandas to numpy    \n",
    "print(con)\n",
    "fil.T"
   ]
  },
  {
   "cell_type": "code",
   "execution_count": 26,
   "id": "7b0fc1de",
   "metadata": {},
   "outputs": [
    {
     "name": "stdout",
     "output_type": "stream",
     "text": [
      "(10, 10)\n"
     ]
    }
   ],
   "source": [
    "# shape is a tuple that always gives dimensions of the array. \n",
    "# The shape is a tuple that gives you an indication of the no. of dimensions in the array. \n",
    "# The shape function for numpy arrays returns the dimensions of the array.\n",
    "print(fil.shape)   "
   ]
  },
  {
   "cell_type": "code",
   "execution_count": 25,
   "id": "4e3526a8",
   "metadata": {},
   "outputs": [
    {
     "name": "stdout",
     "output_type": "stream",
     "text": [
      "(10, 10)\n"
     ]
    }
   ],
   "source": [
    "# shape is a tuple that always gives dimensions of the array. \n",
    "# The shape is a tuple that gives you an indication of the no. of dimensions in the array. \n",
    "# The shape function for numpy arrays returns the dimensions of the array.\n",
    "print(con.shape)"
   ]
  },
  {
   "cell_type": "code",
   "execution_count": 23,
   "id": "bedc1c3e",
   "metadata": {},
   "outputs": [
    {
     "name": "stdout",
     "output_type": "stream",
     "text": [
      "   Unnamed: 0    lcavol   lweight  age      lbph  svi       lcp  gleason  \\\n",
      "0           1 -0.579818  2.769459   50 -1.386294    0 -1.386294        6   \n",
      "1           2 -0.994252  3.319626   58 -1.386294    0 -1.386294        6   \n",
      "2           3 -0.510826  2.691243   74 -1.386294    0 -1.386294        7   \n",
      "3           4 -1.203973  3.282789   58 -1.386294    0 -1.386294        6   \n",
      "4           5  0.751416  3.432373   62 -1.386294    0 -1.386294        6   \n",
      "5          93  2.830268  3.876396   68 -1.386294    1  1.321756        7   \n",
      "6          94  3.821004  3.896909   44 -1.386294    1  2.169054        7   \n",
      "7          95  2.907447  3.396185   52 -1.386294    1  2.463853        7   \n",
      "8          96  2.882564  3.773910   68  1.558145    1  1.558145        7   \n",
      "9          97  3.471966  3.974998   68  0.438255    1  2.904165        7   \n",
      "\n",
      "   pgg45      lpsa  \n",
      "0      0 -0.430783  \n",
      "1      0 -0.162519  \n",
      "2     20 -0.162519  \n",
      "3      0 -0.162519  \n",
      "4      0  0.371564  \n",
      "5     60  4.385147  \n",
      "6     40  4.684443  \n",
      "7     10  5.143124  \n",
      "8     80  5.477509  \n",
      "9     20  5.582932  \n"
     ]
    }
   ],
   "source": [
    "print(fil)"
   ]
  },
  {
   "cell_type": "code",
   "execution_count": 22,
   "id": "91eb5700",
   "metadata": {},
   "outputs": [
    {
     "name": "stdout",
     "output_type": "stream",
     "text": [
      "0   -0.579818\n",
      "1   -0.994252\n",
      "2   -0.510826\n",
      "3   -1.203973\n",
      "4    0.751416\n",
      "5    2.830268\n",
      "6    3.821004\n",
      "7    2.907447\n",
      "8    2.882564\n",
      "9    3.471966\n",
      "Name: lcavol, dtype: float64\n"
     ]
    }
   ],
   "source": [
    "# lcavol: log(cancer volume)\n",
    "# In this cell we accessed and displayed the lcavol coloumn of panda file\n",
    "a0 = fil[\"lcavol\"]    \n",
    "print(a0)\n",
    "# it is still pandas"
   ]
  },
  {
   "cell_type": "code",
   "execution_count": 21,
   "id": "90ba7442",
   "metadata": {},
   "outputs": [
    {
     "name": "stdout",
     "output_type": "stream",
     "text": [
      "[-0.579818 -0.994252 -0.510826 -1.203973  0.751416  2.830268  3.821004\n",
      "  2.907447  2.882564  3.471966]\n",
      "(10,)\n"
     ]
    }
   ],
   "source": [
    "# converting the lcavol coloumn of pandas to numpy anad using shpae method to get dimensions\n",
    "b0 = a0.to_numpy()\n",
    "print(b0)\n",
    "print(b0.shape)"
   ]
  },
  {
   "cell_type": "code",
   "execution_count": 44,
   "id": "16f0c245",
   "metadata": {},
   "outputs": [
    {
     "name": "stdout",
     "output_type": "stream",
     "text": [
      "(10, 1)\n"
     ]
    }
   ],
   "source": [
    "# Representing coloumns and rows \n",
    "b0 = b0.reshape(b0.shape[0],1)\n",
    "print(b0.shape)"
   ]
  },
  {
   "cell_type": "code",
   "execution_count": 43,
   "id": "a22bcac3",
   "metadata": {},
   "outputs": [
    {
     "name": "stdout",
     "output_type": "stream",
     "text": [
      "   Unnamed: 0    lcavol   lweight  age      lbph  svi       lcp  gleason  \\\n",
      "0           1 -0.579818  2.769459   50 -1.386294    0 -1.386294        6   \n",
      "1           2 -0.994252  3.319626   58 -1.386294    0 -1.386294        6   \n",
      "2           3 -0.510826  2.691243   74 -1.386294    0 -1.386294        7   \n",
      "3           4 -1.203973  3.282789   58 -1.386294    0 -1.386294        6   \n",
      "4           5  0.751416  3.432373   62 -1.386294    0 -1.386294        6   \n",
      "5          93  2.830268  3.876396   68 -1.386294    1  1.321756        7   \n",
      "6          94  3.821004  3.896909   44 -1.386294    1  2.169054        7   \n",
      "7          95  2.907447  3.396185   52 -1.386294    1  2.463853        7   \n",
      "8          96  2.882564  3.773910   68  1.558145    1  1.558145        7   \n",
      "9          97  3.471966  3.974998   68  0.438255    1  2.904165        7   \n",
      "\n",
      "   pgg45      lpsa  \n",
      "0      0 -0.430783  \n",
      "1      0 -0.162519  \n",
      "2     20 -0.162519  \n",
      "3      0 -0.162519  \n",
      "4      0  0.371564  \n",
      "5     60  4.385147  \n",
      "6     40  4.684443  \n",
      "7     10  5.143124  \n",
      "8     80  5.477509  \n",
      "9     20  5.582932  \n"
     ]
    }
   ],
   "source": [
    "# similarly we can seperate out any column as a numpy array\n",
    "# then remember how to stack? tb to lab 12\n",
    "# slice out many columns together from pandas dataframe\n",
    "# lets load the data again\n",
    "file = do.read_csv(filename)\n",
    "print(file)"
   ]
  },
  {
   "cell_type": "code",
   "execution_count": 42,
   "id": "70849100",
   "metadata": {},
   "outputs": [
    {
     "name": "stdout",
     "output_type": "stream",
     "text": [
      "(10, 8)\n",
      "(10, 1)\n",
      "[[-0.579818  2.769459 50.       -1.386294  0.       -1.386294  6.\n",
      "   0.      ]\n",
      " [-0.994252  3.319626 58.       -1.386294  0.       -1.386294  6.\n",
      "   0.      ]\n",
      " [-0.510826  2.691243 74.       -1.386294  0.       -1.386294  7.\n",
      "  20.      ]\n",
      " [-1.203973  3.282789 58.       -1.386294  0.       -1.386294  6.\n",
      "   0.      ]\n",
      " [ 0.751416  3.432373 62.       -1.386294  0.       -1.386294  6.\n",
      "   0.      ]\n",
      " [ 2.830268  3.876396 68.       -1.386294  1.        1.321756  7.\n",
      "  60.      ]\n",
      " [ 3.821004  3.896909 44.       -1.386294  1.        2.169054  7.\n",
      "  40.      ]\n",
      " [ 2.907447  3.396185 52.       -1.386294  1.        2.463853  7.\n",
      "  10.      ]\n",
      " [ 2.882564  3.77391  68.        1.558145  1.        1.558145  7.\n",
      "  80.      ]\n",
      " [ 3.471966  3.974998 68.        0.438255  1.        2.904165  7.\n",
      "  20.      ]]\n"
     ]
    }
   ],
   "source": [
    "# For most data types, pandas uses NumPy arrays as the concrete objects contained with a Index , Series , or DataFrame . \n",
    "# here we converted panda data frame to numpy array and accessed coloumns separetly or sliced them\n",
    "file = np.array(file) #pandas data frame to numpy\n",
    "ty = file [::,1:9]\n",
    "yy = file [::,9:10]\n",
    "print(ty.shape)\n",
    "print(yy.shape)\n",
    "\n",
    "print(ty)"
   ]
  },
  {
   "cell_type": "code",
   "execution_count": 41,
   "id": "cb06070a",
   "metadata": {},
   "outputs": [
    {
     "data": {
      "image/png": "[encoded data removed]",
      "text/plain": [
       "<Figure size 432x288 with 1 Axes>"
      ]
     },
     "metadata": {
      "needs_background": "light"
     },
     "output_type": "display_data"
    }
   ],
   "source": [
    "# Y value with respect to X\n",
    "# matplotlib is a Python package used for data plotting and visualisation. \n",
    "# It is a useful complement to Pandas, and like Pandas, is a very feature-rich library\n",
    "# which can produce a large variety of plots, charts, maps, and other visualisations.\n",
    "# The xlabel() function in pyplot module of matplotlib library is used to set the label for the x-axis.\n",
    "# ylabel() This function sets the label for the y-axis of the plot. \n",
    "# The title() method in matplotlib module is used to specify title of the visualization depicted and \n",
    "# displays the title using various attributes.\n",
    "# The plot() function is used to draw points (markers) in a diagram. \n",
    "# By default, the plot() function draws a line from point to point.\n",
    "# we have used these functions in cell\n",
    "import matplotlib.pyplot as pyp\n",
    "import numpy as np\n",
    "\n",
    "apoints = np.array([0, 6])\n",
    "bpoints = np.array([0, 250])\n",
    "\n",
    "pyp.plot(apoints, bpoints)\n",
    "pyp.xlabel(\"X-axis\")\n",
    "pyp.ylabel(\"Y-axis\")\n",
    "pyp.title(\"XY-Plot\")\n",
    "pyp.show()"
   ]
  },
  {
   "cell_type": "code",
   "execution_count": 46,
   "id": "194304e3",
   "metadata": {},
   "outputs": [
    {
     "data": {
      "image/png": "[encoded data removed]",
      "text/plain": [
       "<Figure size 432x288 with 1 Axes>"
      ]
     },
     "metadata": {
      "needs_background": "light"
     },
     "output_type": "display_data"
    }
   ],
   "source": [
    "# Y value with respect to index\n",
    "# Adding markers to a line plot can be a useful way to distinguish multiple lines or to highlight particular data points \n",
    "# Include a marker symbol in the line-specification input argument, such as plot(x,y,'-s') .\n",
    "import matplotlib.pyplot as pyp\n",
    "import numpy as np\n",
    "\n",
    "cpoints = np.array([3, 8, 1, 10])\n",
    "\n",
    "pyp.plot(cpoints, marker = 'o')\n",
    "pyp.xlabel(\"X-axis\")\n",
    "pyp.ylabel(\"Y-axis\")\n",
    "pyp.title(\"Y\")\n",
    "pyp.show()"
   ]
  },
  {
   "cell_type": "code",
   "execution_count": 38,
   "id": "3bdb635a",
   "metadata": {},
   "outputs": [
    {
     "data": {
      "image/png": "[encoded data removed]",
      "text/plain": [
       "<Figure size 432x288 with 1 Axes>"
      ]
     },
     "metadata": {
      "needs_background": "light"
     },
     "output_type": "display_data"
    }
   ],
   "source": [
    "# Y value with respect to index\n",
    "# In This cell we used dashed marker to represent line in dashed form\n",
    "import matplotlib.pyplot as pyp\n",
    "import numpy as np\n",
    "\n",
    "zpoints = np.array([3, 8, 1, 10])\n",
    "\n",
    "pyp.plot(zpoints, linestyle = 'dotted')\n",
    "pyp.xlabel(\"X-axis\")\n",
    "pyp.ylabel(\"Y-axis\")\n",
    "pyp.title(\"Y\")\n",
    "pyp.show()"
   ]
  },
  {
   "cell_type": "code",
   "execution_count": 47,
   "id": "cb2ba7eb",
   "metadata": {},
   "outputs": [
    {
     "data": {
      "image/png": "[encoded data removed]",
      "text/plain": [
       "<Figure size 432x288 with 1 Axes>"
      ]
     },
     "metadata": {
      "needs_background": "light"
     },
     "output_type": "display_data"
    }
   ],
   "source": [
    "# The grid() function of axes object sets visibility of grid inside the figure to on or off. \n",
    "# You can also display major / minor (or both) ticks of the grid.\n",
    "q = np.array([2002, 2004, 2006, 2008, 2010, 2012, 2014, 2016, 2018, 2020])\n",
    "w = np.array([240, 250, 260, 270, 280, 290, 300, 310, 320, 330])\n",
    "\n",
    "pyp.title(\"Anuual Income Increase Ratio\")\n",
    "pyp.xlabel(\"Year\")\n",
    "pyp.ylabel(\"Value\")\n",
    "\n",
    "pyp.plot(q, w)\n",
    "\n",
    "pyp.grid()\n",
    "\n",
    "pyp.show()"
   ]
  },
  {
   "cell_type": "code",
   "execution_count": 37,
   "id": "74201f2f",
   "metadata": {},
   "outputs": [
    {
     "data": {
      "text/plain": [
       "[<matplotlib.lines.Line2D at 0x21b35d511c0>]"
      ]
     },
     "execution_count": 37,
     "metadata": {},
     "output_type": "execute_result"
    },
    {
     "data": {
      "image/png": "[encoded data removed]",
      "text/plain": [
       "<Figure size 432x288 with 1 Axes>"
      ]
     },
     "metadata": {
      "needs_background": "light"
     },
     "output_type": "display_data"
    }
   ],
   "source": [
    "# subplots\n",
    "# Subplots mean groups of axes that can exist in a single matplotlib figure. \n",
    "# subplots() function in the matplotlib library, helps in creating multiple layouts of subplots.\n",
    "#plot 1:\n",
    "e = np.array([0, 1, 2, 3])\n",
    "r = np.array([3, 8, 1, 10])\n",
    "\n",
    "pyp.subplot(1, 2, 1)\n",
    "pyp.plot(e,r)"
   ]
  },
  {
   "cell_type": "code",
   "execution_count": 31,
   "id": "91b217ce",
   "metadata": {},
   "outputs": [
    {
     "data": {
      "image/png": "[encoded data removed]",
      "text/plain": [
       "<Figure size 432x288 with 1 Axes>"
      ]
     },
     "metadata": {
      "needs_background": "light"
     },
     "output_type": "display_data"
    }
   ],
   "source": [
    "# Subplots mean groups of axes that can exist in a single matplotlib figure. \n",
    "# subplots() function in the matplotlib library, helps in creating multiple layouts of subplots.\n",
    "#plot 2:\n",
    "aq = np.array([0, 1, 2, 3])\n",
    "sd = np.array([10, 20, 30, 40])\n",
    "\n",
    "pyp.subplot(1, 2, 2)\n",
    "pyp.plot(aq,sd)\n",
    "\n",
    "pyp.show()"
   ]
  },
  {
   "cell_type": "code",
   "execution_count": 36,
   "id": "d8f5f2ff",
   "metadata": {},
   "outputs": [
    {
     "data": {
      "image/png": "[encoded data removed]",
      "text/plain": [
       "<Figure size 432x288 with 1 Axes>"
      ]
     },
     "metadata": {
      "needs_background": "light"
     },
     "output_type": "display_data"
    }
   ],
   "source": [
    "# Scatter Plot\n",
    "# A scatter plot is a diagram where each value in the data set is represented by a dot. \n",
    "fg = np.array([5,7,8,7,2,17,2,9,4,11,12,9,6])\n",
    "gh = np.array([99,86,87,88,111,86,103,87,94,78,77,85,86])\n",
    "\n",
    "pyp.scatter(fg, gh)\n",
    "pyp.show()"
   ]
  },
  {
   "cell_type": "code",
   "execution_count": 35,
   "id": "4fc09acd",
   "metadata": {},
   "outputs": [
    {
     "data": {
      "image/png": "[encoded data removed]",
      "text/plain": [
       "<Figure size 432x288 with 1 Axes>"
      ]
     },
     "metadata": {
      "needs_background": "light"
     },
     "output_type": "display_data"
    }
   ],
   "source": [
    "# Scatter Plot\n",
    "# A scatter plot is a diagram where each value in the data set is represented by a dot. \n",
    "# Here we used x marks to represent x in place of dot\n",
    "hj = np.array([5,7,8,7,2,17,2,9,4,11,12,9,6])\n",
    "jk = np.array([99,86,87,88,111,86,103,87,94,78,77,85,86])\n",
    "\n",
    "pyp.scatter(hj, jk, color = 'r', marker = 'x')\n",
    "pyp.show()"
   ]
  },
  {
   "cell_type": "code",
   "execution_count": 33,
   "id": "5731eb9e",
   "metadata": {},
   "outputs": [
    {
     "data": {
      "image/png": "[encoded data removed]",
      "text/plain": [
       "<Figure size 432x288 with 1 Axes>"
      ]
     },
     "metadata": {
      "needs_background": "light"
     },
     "output_type": "display_data"
    }
   ],
   "source": [
    "# A bar chart or bar graph is a chart or graph that presents categorical data\n",
    "# with rectangular bars with heights or lengths proportional to the values that they represent. \n",
    "# The bars can be plotted vertically or horizontally.\n",
    "# we have used .bar to represent data\n",
    "import matplotlib.pyplot as pyp\n",
    "import numpy as np\n",
    "\n",
    "qw = np.array([\"A\", \"B\", \"C\", \"D\"])\n",
    "we = np.array([3, 8, 1, 10])\n",
    "\n",
    "pyp.bar(qw,we)\n",
    "pyp.show()"
   ]
  },
  {
   "cell_type": "code",
   "execution_count": 32,
   "id": "39761d90",
   "metadata": {},
   "outputs": [
    {
     "data": {
      "image/png": "[encoded data removed]",
      "text/plain": [
       "<Figure size 432x288 with 1 Axes>"
      ]
     },
     "metadata": {},
     "output_type": "display_data"
    }
   ],
   "source": [
    "# A Pie Chart is a circular statistical plot that can display only one series of data. \n",
    "# The area of the chart is the total percentage of the given data. \n",
    "#The area of slices of the pie represents the percentage of the parts of the data.\n",
    "# Here we have used .pi method\n",
    "import matplotlib.pyplot as pyp\n",
    "import numpy as np\n",
    "\n",
    "az = np.array([35, 25, 25, 15])\n",
    "\n",
    "pyp.pie(az)\n",
    "pyp.show() \n"
   ]
  }
 ],
 "metadata": {
  "kernelspec": {
   "display_name": "Python 3 (ipykernel)",
   "language": "python",
   "name": "python3"
  },
  "language_info": {
   "codemirror_mode": {
    "name": "ipython",
    "version": 3
   },
   "file_extension": ".py",
   "mimetype": "text/x-python",
   "name": "python",
   "nbconvert_exporter": "python",
   "pygments_lexer": "ipython3",
   "version": "3.9.7"
  }
 },
 "nbformat": 4,
 "nbformat_minor": 5
}
